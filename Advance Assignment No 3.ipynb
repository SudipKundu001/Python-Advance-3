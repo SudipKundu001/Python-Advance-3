{
 "cells": [
  {
   "cell_type": "markdown",
   "id": "439d6d52",
   "metadata": {},
   "source": [
    ">__1. What is the concept of an abstract superclass?__"
   ]
  },
  {
   "cell_type": "markdown",
   "id": "fde3e0a8",
   "metadata": {},
   "source": [
    "Ans.  A class is called an Abstract class if it contains one or more abstract methods. An abstract method is a method that is declared, but contains no implementation. Abstract classes may not be instantiated, and its abstract methods must be implemented by its subclasses."
   ]
  },
  {
   "cell_type": "markdown",
   "id": "8d81081f",
   "metadata": {},
   "source": [
    ">__2. What happens when a class statement's top level contains a basic assignment statement?__"
   ]
  },
  {
   "cell_type": "markdown",
   "id": "8c5cf24b",
   "metadata": {},
   "source": [
    "Ans.  An assignment statement evaluates the expression list (remember that this can be a single expression or a comma-separated list, the latter yielding a tuple) and assigns the single resulting object to each of the target lists, from left to right."
   ]
  },
  {
   "cell_type": "markdown",
   "id": "b0de196a",
   "metadata": {},
   "source": [
    ">__3. Why does a class need to manually call a superclass's __init__ method?__"
   ]
  },
  {
   "cell_type": "markdown",
   "id": "9c2278a0",
   "metadata": {},
   "source": [
    "Ans.  It's because one needs to define something that is NOT done in the base-class' __init__ , and the only possibility to obtain that is to put its execution in a derived-class' __init__ function."
   ]
  },
  {
   "cell_type": "markdown",
   "id": "011f812e",
   "metadata": {},
   "source": [
    ">__4. How can you augment, instead of completely replacing, an inherited method?__"
   ]
  },
  {
   "cell_type": "markdown",
   "id": "54903d68",
   "metadata": {},
   "source": [
    "Ans.  The good way to do that in Python is by calling to the original version directly, with augmented arguments, like this:\n",
    "\n",
    "class Manager(Person):\n",
    "\n",
    "def giveRaise(self, percent, bonus=.10):\n",
    "\n",
    "Person.giveRaise(self, percent + bonus) # Good: augment original"
   ]
  },
  {
   "cell_type": "markdown",
   "id": "76041a16",
   "metadata": {},
   "source": [
    ">__5. How is the local scope of a class different from that of a function?__"
   ]
  },
  {
   "cell_type": "markdown",
   "id": "286a8eb0",
   "metadata": {},
   "source": [
    "Ans.  Declaring a variable inside a function inside a class : only that function can access it (its in that functions scope): comment: if the variable is declared without self then it is accessible within that function only, kinda local variable. However if it declared using self like self."
   ]
  }
 ],
 "metadata": {
  "kernelspec": {
   "display_name": "Python 3",
   "language": "python",
   "name": "python3"
  },
  "language_info": {
   "codemirror_mode": {
    "name": "ipython",
    "version": 3
   },
   "file_extension": ".py",
   "mimetype": "text/x-python",
   "name": "python",
   "nbconvert_exporter": "python",
   "pygments_lexer": "ipython3",
   "version": "3.8.8"
  }
 },
 "nbformat": 4,
 "nbformat_minor": 5
}
